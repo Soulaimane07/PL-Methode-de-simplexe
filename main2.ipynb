{
 "cells": [
  {
   "cell_type": "markdown",
   "metadata": {},
   "source": [
    "<h3>Methode de simplexe</h3>"
   ]
  },
  {
   "cell_type": "markdown",
   "metadata": {},
   "source": [
    "<p>\n",
    "    Ce bloc permet à l'utilisateur de saisir le nombre de variables de la fonction objectif. Après il crée deux listes:\n",
    "    <ul>\n",
    "        <li>une contenant les variables de la fonction objectif\n",
    "        <li>l'autre contenant les variables négatives de la fonction objectif\n",
    "    </ul> \n",
    "</p>"
   ]
  },
  {
   "cell_type": "code",
   "execution_count": 2,
   "metadata": {},
   "outputs": [
    {
     "name": "stdout",
     "output_type": "stream",
     "text": [
      "\n",
      "La fonction objectif: [3.0, 5.0]\n",
      "La fonction objectif (-): [-3.0, -5.0]\n"
     ]
    }
   ],
   "source": [
    "num_variables = int(input(\"Entrer le nombre des variables de la fct objectif: \"))\n",
    "\n",
    "objective_function = []\n",
    "for i in range(num_variables):\n",
    "    var = float(input(f\"Entrer la variable numero {i+1}: \"))\n",
    "    objective_function.append(var)\n",
    "\n",
    "sin_objective_function = [-x for x in objective_function]\n",
    "\n",
    "print(f\"\\nLa fonction objectif: {objective_function}\")\n",
    "print(f\"La fonction objectif (-): {sin_objective_function}\")\n"
   ]
  },
  {
   "cell_type": "markdown",
   "metadata": {},
   "source": [
    "<p>\n",
    "    Ce bloc prend le nombre de variables et la liste des variables objectives.\n",
    "    <ul>\n",
    "        <li> il permet à l'utilisateur de saisir le nombre de contraintes, puis les variables de ces contraintes. </li>\n",
    "        <li> il construis une matrice contient les contraintes avec des variables d'écart et une liste de résultats. </li>\n",
    "    </ul>\n",
    "</p>"
   ]
  },
  {
   "cell_type": "code",
   "execution_count": 3,
   "metadata": {},
   "outputs": [
    {
     "name": "stdout",
     "output_type": "stream",
     "text": [
      "\n",
      "Matrice des contrantes: \n",
      "[1.0, 0.0, 1, 0, 0]\n",
      "[0.0, 2.0, 0, 1, 0]\n",
      "[3.0, 2.0, 0, 0, 1]\n",
      "\n",
      "Liste des resultats: \n",
      "[4.0, 12.0, 18.0]\n"
     ]
    }
   ],
   "source": [
    "num_contraintes = int(input(\"\\nEntrer le nombre des contraintes: \"))\n",
    "\n",
    "contraintes = []\n",
    "contraintes_resultat = []\n",
    "\n",
    "for i in range(num_contraintes):\n",
    "    row = [] \n",
    "    for j in range(num_variables):\n",
    "        value = float(input(f\"Enter pour contrainte {i+1}, variable {j+1}: \"))\n",
    "        row.append(value) \n",
    "    contraintes.append(row)\n",
    "\n",
    "print('')\n",
    "for i in range(num_contraintes):\n",
    "    value = float(input(f\"Enter pour contrainte {i+1}, le resultat: \"))\n",
    "    contraintes_resultat.append(value) \n",
    "\n",
    "\n",
    "new_contraintes = []\n",
    "new_objectif_function = sin_objective_function\n",
    "\n",
    "for i in range(num_contraintes):\n",
    "    new_objectif_function.append(0)\n",
    "    row = contraintes[i] \n",
    "    for j in range(num_contraintes):\n",
    "        if i == j:\n",
    "            row.append(1)\n",
    "        else:\n",
    "            row.append(0)\n",
    "    new_contraintes.append(row)\n",
    "\n",
    "print(\"Matrice des contrantes: \")\n",
    "for row in new_contraintes:\n",
    "    print(row)\n",
    "\n",
    "print(\"\\nListe des resultats: \")\n",
    "print(contraintes_resultat)\n"
   ]
  },
  {
   "cell_type": "markdown",
   "metadata": {},
   "source": [
    "<p>\n",
    "    Dans ce bloc il y a quatre fonction:\n",
    "    <ul>\n",
    "        <li> pivot_column : pour determiner la colone qui contient le pivot. </li>\n",
    "        <li> pivot_row: pour determiner la line qui contient le pivot. </li>\n",
    "        <li> pivot:  </li>\n",
    "        <li> display_variables: pour afficher les variables de base et hors base.  </li>\n",
    "    </ul>\n",
    "</p>"
   ]
  },
  {
   "cell_type": "code",
   "execution_count": 13,
   "metadata": {},
   "outputs": [],
   "source": [
    "def pivot_column(tableau):\n",
    "    result = min(range(len(tableau[-1]) - 1), key=lambda i: tableau[0][i])\n",
    "    return result\n",
    "\n",
    "\n",
    "def pivot_row(tableau, col):\n",
    "    ratios = [(i, tableau[i][-1] / tableau[i][col]) for i in range(1, len(tableau)) if tableau[i][col] > 0]\n",
    "    result = min(ratios, key=lambda x: x[1])[0]\n",
    "    return result\n",
    "\n",
    "\n",
    "def pivot(tableau, row, col):\n",
    "    pivot_val = tableau[row][col]\n",
    "    if pivot_val == 0:\n",
    "        raise ValueError(\"La valeur pivot est nulle.\")\n",
    "    tableau[row] = [x / pivot_val for x in tableau[row]]\n",
    "    for i in range(len(tableau)):\n",
    "        if i != row:\n",
    "            factor = tableau[i][col]\n",
    "            tableau[i] = [x - factor * tableau[row][j] for j, x in enumerate(tableau[i])]\n",
    "\n",
    "\n",
    "def display_variables(tableau):\n",
    "    num_variables = len(tableau[0]) - 1  # Nombre de variables dans la fonction objective\n",
    "\n",
    "    # Trouver les indices des variables de base\n",
    "    base_indices = [i for i in range(num_variables) if sum(row[i] for row in tableau[1:]) == 1]\n",
    "\n",
    "    # Trouver les indices des variables hors base\n",
    "    non_base_indices = [i for i in range(num_variables) if i not in base_indices]\n",
    "\n",
    "    print(\"\\nLes valeurs de base: \")\n",
    "    for idx in base_indices:\n",
    "        for row in tableau[1:]:\n",
    "            if row[idx] == 1:\n",
    "                print(f'x{idx + 1}: {row[-1]}')\n",
    "\n",
    "    print(\"\\nLes valeurs hors base: \")\n",
    "    for idx in non_base_indices:\n",
    "        print(f'x{idx + 1}: 0')\n",
    "\n",
    "    # print(f\"z: {}\")\n",
    "    print(f\"Z: {tableau[0][-1]}\")\n",
    "    "
   ]
  },
  {
   "cell_type": "markdown",
   "metadata": {},
   "source": [
    "<p>\n",
    "    test\n",
    "</p>"
   ]
  },
  {
   "cell_type": "code",
   "execution_count": 14,
   "metadata": {},
   "outputs": [
    {
     "name": "stdout",
     "output_type": "stream",
     "text": [
      "\n",
      "\n",
      "----> Tableau 1:\n",
      "[-3.0, -5.0, 0, 0, 0, 0]\n",
      "[1.0, 0.0, 1, 0, 0, 4.0]\n",
      "[0.0, 2.0, 0, 1, 0, 12.0]\n",
      "[3.0, 2.0, 0, 0, 1, 18.0]\n",
      "\n",
      "Les valeurs de base: \n",
      "x3: 4.0\n",
      "x4: 12.0\n",
      "x5: 18.0\n",
      "\n",
      "Les valeurs hors base: \n",
      "x1: 0\n",
      "x2: 0\n",
      "Z: 0\n",
      "\n",
      "----> Conclusion:\n",
      "Z: -3.0\n",
      "Z: -5.0\n",
      "\n",
      "\n",
      "----> Tableau 2:\n",
      "[-3.0, 0.0, 0.0, 2.5, 0.0, 30.0]\n",
      "[1.0, 0.0, 1.0, 0.0, 0.0, 4.0]\n",
      "[0.0, 1.0, 0.0, 0.5, 0.0, 6.0]\n",
      "[3.0, 0.0, 0.0, -1.0, 1.0, 6.0]\n",
      "\n",
      "Les valeurs de base: \n",
      "x2: 6.0\n",
      "x3: 4.0\n",
      "x5: 6.0\n",
      "\n",
      "Les valeurs hors base: \n",
      "x1: 0\n",
      "x4: 0\n",
      "Z: 30.0\n",
      "\n",
      "----> Conclusion:\n",
      "Z: -3.0\n",
      "Z: 0.0\n",
      "\n",
      "\n",
      "----> Tableau 3:\n",
      "[0.0, 0.0, 0.0, 1.5, 1.0, 36.0]\n",
      "[0.0, 0.0, 1.0, 0.33, -0.33, 2.0]\n",
      "[0.0, 1.0, 0.0, 0.5, 0.0, 6.0]\n",
      "[1.0, 0.0, 0.0, -0.33, 0.33, 2.0]\n",
      "\n",
      "Les valeurs de base: \n",
      "x1: 2.0\n",
      "x2: 6.0\n",
      "x3: 2.0\n",
      "\n",
      "Les valeurs hors base: \n",
      "x4: 0\n",
      "x5: 0\n",
      "Z: 36.0\n",
      "\n",
      "----> Conclusion:\n",
      "Z: 0.0\n",
      "Z: 0.0\n"
     ]
    }
   ],
   "source": [
    "tableau = [ new_objectif_function +[0]]  # Première ligne du tableau avec les coefficients de l'objectif\n",
    "tableau.extend([c + [v] for c, v in zip(new_contraintes, contraintes_resultat)])  # Lignes suivantes représentant les contraintes\n",
    "\n",
    "\n",
    "# Fonction pour afficher le tableau\n",
    "def display_tableau(tableau, i):\n",
    "    print(f\"\\n\\n----> Tableau {i}:\")\n",
    "    for row in tableau:\n",
    "        rounded_row = [round(val, 2) for val in row]\n",
    "        print(rounded_row)\n",
    "    display_variables(tableau)\n",
    "\n",
    "\n",
    "display_tableau(tableau, 1)  # Afficher le tableau initial\n",
    "# Itération jusqu'à ce que toutes les valeurs de la fonction objectif soient non négatives\n",
    "i=2\n",
    "while min(tableau[0][:-1]) < 0: \n",
    "    col = pivot_column(tableau)  # Sélection de la colonne pivot\n",
    "    row = pivot_row(tableau, col)  # Sélection de la ligne pivot\n",
    "    pivot(tableau, row, col)  # Opération de pivot pour mettre à jour\n",
    "    \n",
    "    display_tableau(tableau, i)  # Afficher le tableau après chaque itération\n",
    "    i+=1\n"
   ]
  }
 ],
 "metadata": {
  "kernelspec": {
   "display_name": ".venv",
   "language": "python",
   "name": "python3"
  },
  "language_info": {
   "codemirror_mode": {
    "name": "ipython",
    "version": 3
   },
   "file_extension": ".py",
   "mimetype": "text/x-python",
   "name": "python",
   "nbconvert_exporter": "python",
   "pygments_lexer": "ipython3",
   "version": "3.12.2"
  }
 },
 "nbformat": 4,
 "nbformat_minor": 2
}
